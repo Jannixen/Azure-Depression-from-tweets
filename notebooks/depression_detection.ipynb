{
 "cells": [
  {
   "cell_type": "markdown",
   "metadata": {
    "nteract": {
     "transient": {
      "deleting": false
     }
    }
   },
   "source": [
    "# Depression from tweets detection #"
   ]
  },
  {
   "cell_type": "code",
   "execution_count": 1,
   "metadata": {
    "gather": {
     "logged": 1637330002670
    }
   },
   "outputs": [],
   "source": [
    "import pandas as pd\n",
    "import numpy as np\n",
    "from sklearn.model_selection import train_test_split\n",
    "from sklearn.feature_extraction.text import TfidfVectorizer\n",
    "from sklearn.metrics import accuracy_score, confusion_matrix, classification_report\n",
    "import pickle\n",
    "from sklearn.naive_bayes import MultinomialNB\n",
    "from sklearn.linear_model import LogisticRegression\n",
    "import matplotlib.pyplot as plt\n",
    "import itertools\n"
   ]
  },
  {
   "cell_type": "code",
   "execution_count": 2,
   "metadata": {
    "gather": {
     "logged": 1637330025126
    },
    "jupyter": {
     "outputs_hidden": false,
     "source_hidden": false
    },
    "nteract": {
     "transient": {
      "deleting": false
     }
    }
   },
   "outputs": [],
   "source": [
    "import warnings\n",
    "warnings.filterwarnings(\"ignore\")\n",
    "\n",
    "# azureml-core of version 1.0.72 or higher is required\n",
    "# azureml-dataprep[pandas] of version 1.1.34 or higher is required\n",
    "from azureml.core import Workspace, Dataset\n",
    "\n",
    "subscription_id = '6ce0c011-aa35-4425-9b6b-e8d8d8a1b919'\n",
    "resource_group = 'projekt1_grupa6'\n",
    "workspace_name = 'depresja_projekt'\n",
    "\n",
    "workspace = Workspace(subscription_id, resource_group, workspace_name)\n",
    "\n",
    "train_data1 = Dataset.get_by_name(workspace, name='train_data1')\n",
    "train_data2 = Dataset.get_by_name(workspace, name='train_data')\n",
    "\n",
    "analysis_data = Dataset.get_by_name(workspace, name='data_no_labels2')\n",
    "analysis_data = analysis_data.to_pandas_dataframe()"
   ]
  },
  {
   "cell_type": "code",
   "execution_count": 3,
   "metadata": {
    "gather": {
     "logged": 1637330133433
    },
    "jupyter": {
     "outputs_hidden": false,
     "source_hidden": false
    },
    "nteract": {
     "transient": {
      "deleting": false
     }
    }
   },
   "outputs": [],
   "source": [
    "train_data1 = train_data1.to_pandas_dataframe()\n",
    "train_data2 = train_data2.to_pandas_dataframe()"
   ]
  },
  {
   "cell_type": "markdown",
   "metadata": {
    "nteract": {
     "transient": {
      "deleting": false
     }
    }
   },
   "source": [
    "## Joining two train datasets ##"
   ]
  },
  {
   "cell_type": "code",
   "execution_count": 4,
   "metadata": {
    "gather": {
     "logged": 1637330133929
    },
    "jupyter": {
     "outputs_hidden": false,
     "source_hidden": false
    },
    "nteract": {
     "transient": {
      "deleting": false
     }
    }
   },
   "outputs": [],
   "source": [
    "train_data2 = train_data2[['text', 'class']]\n",
    "\n",
    "train_data1.columns = ['text','class']\n",
    "train_data = pd.concat([train_data1, train_data2])"
   ]
  },
  {
   "cell_type": "code",
   "execution_count": 5,
   "metadata": {
    "gather": {
     "logged": 1637330134221
    },
    "jupyter": {
     "outputs_hidden": false,
     "source_hidden": false
    },
    "nteract": {
     "transient": {
      "deleting": false
     }
    }
   },
   "outputs": [
    {
     "data": {
      "text/plain": [
       "non-suicide     116037\n",
       "suicide         116037\n",
       "depression       10371\n",
       "SuicideWatch      9992\n",
       "Name: class, dtype: int64"
      ]
     },
     "execution_count": 5,
     "metadata": {},
     "output_type": "execute_result"
    }
   ],
   "source": [
    "train_data['class'].value_counts()"
   ]
  },
  {
   "cell_type": "code",
   "execution_count": 6,
   "metadata": {
    "gather": {
     "logged": 1637330134456
    },
    "jupyter": {
     "outputs_hidden": false,
     "source_hidden": false
    },
    "nteract": {
     "transient": {
      "deleting": false
     }
    }
   },
   "outputs": [],
   "source": [
    "train_data['class'] = train_data['class'].replace(['suicide','depression',\"SuicideWatch\"], 1)"
   ]
  },
  {
   "cell_type": "code",
   "execution_count": 7,
   "metadata": {
    "gather": {
     "logged": 1637330134760
    },
    "jupyter": {
     "outputs_hidden": false,
     "source_hidden": false
    },
    "nteract": {
     "transient": {
      "deleting": false
     }
    }
   },
   "outputs": [],
   "source": [
    "train_data['class'] = train_data['class'].replace(['non-suicide'], 0)"
   ]
  },
  {
   "cell_type": "code",
   "execution_count": 8,
   "metadata": {
    "gather": {
     "logged": 1637330135155
    },
    "jupyter": {
     "outputs_hidden": false,
     "source_hidden": false
    },
    "nteract": {
     "transient": {
      "deleting": false
     }
    }
   },
   "outputs": [
    {
     "data": {
      "text/plain": [
       "1    136400\n",
       "0    116037\n",
       "Name: class, dtype: int64"
      ]
     },
     "execution_count": 8,
     "metadata": {},
     "output_type": "execute_result"
    }
   ],
   "source": [
    "train_data['class'].value_counts()"
   ]
  },
  {
   "cell_type": "markdown",
   "metadata": {
    "nteract": {
     "transient": {
      "deleting": false
     }
    }
   },
   "source": [
    "# Dividing into train and test #"
   ]
  },
  {
   "cell_type": "code",
   "execution_count": 9,
   "metadata": {
    "gather": {
     "logged": 1637330135512
    },
    "jupyter": {
     "outputs_hidden": false,
     "source_hidden": false
    },
    "nteract": {
     "transient": {
      "deleting": false
     }
    }
   },
   "outputs": [],
   "source": [
    "X_train, X_test, y_train, y_test = train_test_split(train_data['text'],\n",
    "                                                    train_data['class'],\n",
    "                                                    test_size=0.2,\n",
    "                                                    random_state=0)"
   ]
  },
  {
   "cell_type": "markdown",
   "metadata": {
    "nteract": {
     "transient": {
      "deleting": false
     }
    }
   },
   "source": [
    "## Creating bag of words ##\n",
    "\n",
    "Bag of words = matrix which consists of count how many times each word appears in tweet, so where rows means tweets, columns are equal to particular words and values are counts of each word in sentence"
   ]
  },
  {
   "cell_type": "code",
   "execution_count": 10,
   "metadata": {
    "gather": {
     "logged": 1637330404644
    },
    "jupyter": {
     "outputs_hidden": false,
     "source_hidden": false
    },
    "nteract": {
     "transient": {
      "deleting": false
     }
    }
   },
   "outputs": [
    {
     "data": {
      "text/plain": [
       "33442"
      ]
     },
     "execution_count": 10,
     "metadata": {},
     "output_type": "execute_result"
    }
   ],
   "source": [
    "vectorizer = TfidfVectorizer(stop_words='english',\n",
    "                             ngram_range=(4,7),\n",
    "                             min_df=5,\n",
    "                             strip_accents='unicode')\n",
    "X_train_vectorized = vectorizer.fit_transform(X_train)\n",
    "X_test_vectorized = vectorizer.transform(X_test)\n",
    "X_train_vectorized\n",
    "len(vectorizer.get_feature_names())"
   ]
  },
  {
   "cell_type": "markdown",
   "metadata": {
    "nteract": {
     "transient": {
      "deleting": false
     }
    }
   },
   "source": [
    "## Classifier ##"
   ]
  },
  {
   "cell_type": "code",
   "execution_count": 11,
   "metadata": {
    "gather": {
     "logged": 1637330404943
    },
    "jupyter": {
     "outputs_hidden": false,
     "source_hidden": false
    },
    "nteract": {
     "transient": {
      "deleting": false
     }
    }
   },
   "outputs": [],
   "source": [
    "def plot_confusion_matrix(cm,\n",
    "                          classes,\n",
    "                          title='Confusion matrix',\n",
    "                          cmap=plt.cm.Blues):\n",
    "    cm = cm.astype('float') / cm.sum(axis=1)[:, np.newaxis]\n",
    "    plt.imshow(cm, interpolation='nearest', cmap=cmap)\n",
    "    plt.title(title)\n",
    "    plt.colorbar()\n",
    "    tick_marks = np.arange(len(classes))\n",
    "    plt.xticks(tick_marks, classes, rotation=90)\n",
    "    plt.yticks(tick_marks, classes)\n",
    "\n",
    "    fmt = '.2f'\n",
    "    thresh = cm.max() / 2.\n",
    "    for i, j in itertools.product(range(cm.shape[0]), range(cm.shape[1])):\n",
    "        plt.text(j,\n",
    "                 i,\n",
    "                 format(cm[i, j], fmt),\n",
    "                 horizontalalignment=\"center\",\n",
    "                 color=\"white\" if cm[i, j] > thresh else \"black\")\n",
    "\n",
    "    plt.ylabel('True values')\n",
    "    plt.xlabel('Received values')\n",
    "    plt.tight_layout()"
   ]
  },
  {
   "cell_type": "code",
   "execution_count": 12,
   "metadata": {
    "gather": {
     "logged": 1637330405497
    },
    "jupyter": {
     "outputs_hidden": false,
     "source_hidden": false
    },
    "nteract": {
     "transient": {
      "deleting": false
     }
    }
   },
   "outputs": [],
   "source": [
    "def classify(classifier, vectorizer):\n",
    "\n",
    "    classifier.fit(X_train_vectorized, y_train)\n",
    "\n",
    "    predictions = classifier.predict(X_train_vectorized)\n",
    "    print('Train Accuracy: ', accuracy_score(y_train, predictions))\n",
    "    cm = confusion_matrix(y_train, predictions)\n",
    "    print(cm)\n",
    "\n",
    "    predictions = classifier.predict(X_test_vectorized)\n",
    "    print('Test Accuracy: ', accuracy_score(y_test, predictions))\n",
    "    cm = confusion_matrix(y_test, predictions)\n",
    "    plot_confusion_matrix(cm,\n",
    "                          classes=[0, 1],\n",
    "                          title=\"Classification matrix - Validation\")\n",
    "    print(\"Raport klasyfikacji: \")\n",
    "    print(classification_report(y_test, predictions))\n",
    "    print(cm)"
   ]
  },
  {
   "cell_type": "code",
   "execution_count": 13,
   "metadata": {
    "gather": {
     "logged": 1637330405795
    },
    "jupyter": {
     "outputs_hidden": false,
     "source_hidden": false
    },
    "nteract": {
     "transient": {
      "deleting": false
     }
    }
   },
   "outputs": [],
   "source": [
    "def find_best_features(classifier, vactorizer):\n",
    "    feature_names = np.array(vectorizer.get_feature_names())\n",
    "    sorted_coef_index = classifier.coef_[0].argsort()\n",
    "    print('Smallest Coefs:\\n{}\\n'.format(\n",
    "        feature_names[sorted_coef_index[:10]]))\n",
    "    print('Largest Coefs: \\n{}'.format(\n",
    "        feature_names[sorted_coef_index[:-11:-1]]))"
   ]
  },
  {
   "cell_type": "code",
   "execution_count": 14,
   "metadata": {
    "gather": {
     "logged": 1637330407637
    },
    "jupyter": {
     "outputs_hidden": false,
     "source_hidden": false
    },
    "nteract": {
     "transient": {
      "deleting": false
     }
    }
   },
   "outputs": [
    {
     "name": "stdout",
     "output_type": "stream",
     "text": [
      "Train Accuracy:  0.6769184299006185\n",
      "[[89796  3027]\n",
      " [62219 46907]]\n",
      "Test Accuracy:  0.6502733322769767\n",
      "Raport klasyfikacji: \n",
      "              precision    recall  f1-score   support\n",
      "\n",
      "           0       0.57      0.96      0.72     23214\n",
      "           1       0.92      0.38      0.54     27274\n",
      "\n",
      "    accuracy                           0.65     50488\n",
      "   macro avg       0.75      0.67      0.63     50488\n",
      "weighted avg       0.76      0.65      0.62     50488\n",
      "\n",
      "[[22350   864]\n",
      " [16793 10481]]\n"
     ]
    },
    {
     "data": {
      "image/png": "[encoded data removed]",
      "text/plain": [
       "<Figure size 432x288 with 2 Axes>"
      ]
     },
     "metadata": {
      "needs_background": "light"
     },
     "output_type": "display_data"
    }
   ],
   "source": [
    "classifier_log = LogisticRegression(class_weight=\"balanced\")\n",
    "classify(classifier_log, vectorizer)"
   ]
  },
  {
   "cell_type": "code",
   "execution_count": 15,
   "metadata": {
    "gather": {
     "logged": 1637330408055
    },
    "jupyter": {
     "outputs_hidden": false,
     "source_hidden": false
    },
    "nteract": {
     "transient": {
      "deleting": false
     }
    }
   },
   "outputs": [
    {
     "name": "stdout",
     "output_type": "stream",
     "text": [
      "Smallest Coefs:\n",
      "['filler filler filler filler' 'https www twitch tv'\n",
      " 'https open spotify com' 'https www youtube com' 'thank coming ted talk'\n",
      " 'posting everyday girlfriend day' 'thanks coming ted talk'\n",
      " 'filler filler filler filler filler' 'writing positive happened today'\n",
      " 'https www reddit com teenagers']\n",
      "\n",
      "Largest Coefs: \n",
      "['don want live anymore' 'want die just want' 'http www reddit com'\n",
      " 'don want alive anymore' 'just want pain stop' 'don want hurt family'\n",
      " 'make look like accident' 'want die don want' 'just want sleep wake'\n",
      " 'don really want die']\n"
     ]
    }
   ],
   "source": [
    "find_best_features(classifier_log,  vectorizer)"
   ]
  },
  {
   "cell_type": "code",
   "execution_count": 16,
   "metadata": {
    "gather": {
     "logged": 1637330408502
    },
    "jupyter": {
     "outputs_hidden": false,
     "source_hidden": false
    },
    "nteract": {
     "transient": {
      "deleting": false
     }
    }
   },
   "outputs": [],
   "source": [
    "analysis_data.head()\n",
    "X_test = analysis_data['text']\n",
    "X_test_vectorized = vectorizer.transform(X_test)"
   ]
  },
  {
   "cell_type": "code",
   "execution_count": 17,
   "metadata": {
    "gather": {
     "logged": 1637330408779
    },
    "jupyter": {
     "outputs_hidden": false,
     "source_hidden": false
    },
    "nteract": {
     "transient": {
      "deleting": false
     }
    }
   },
   "outputs": [],
   "source": [
    "predictions = classifier_log.predict(X_test_vectorized)"
   ]
  },
  {
   "cell_type": "code",
   "execution_count": 18,
   "metadata": {
    "gather": {
     "logged": 1637330409246
    },
    "jupyter": {
     "outputs_hidden": false,
     "source_hidden": false
    },
    "nteract": {
     "transient": {
      "deleting": false
     }
    }
   },
   "outputs": [
    {
     "data": {
      "text/plain": [
       "0    20016\n",
       "1       34\n",
       "Name: depression_pred, dtype: int64"
      ]
     },
     "execution_count": 18,
     "metadata": {},
     "output_type": "execute_result"
    }
   ],
   "source": [
    "analysis_data['depression_pred'] = predictions\n",
    "analysis_data['depression_pred'].value_counts()"
   ]
  },
  {
   "cell_type": "code",
   "execution_count": 19,
   "metadata": {
    "gather": {
     "logged": 1637330409558
    },
    "jupyter": {
     "outputs_hidden": false,
     "source_hidden": false
    },
    "nteract": {
     "transient": {
      "deleting": false
     }
    }
   },
   "outputs": [],
   "source": [
    "depression_tweets = analysis_data.loc[analysis_data['depression_pred'] == 1][['gender','text']]"
   ]
  },
  {
   "cell_type": "code",
   "execution_count": 20,
   "metadata": {
    "gather": {
     "logged": 1637330409892
    },
    "jupyter": {
     "outputs_hidden": false,
     "source_hidden": false
    },
    "nteract": {
     "transient": {
      "deleting": false
     }
    }
   },
   "outputs": [
    {
     "data": {
      "text/html": [
       "<div>\n",
       "<style scoped>\n",
       "    .dataframe tbody tr th:only-of-type {\n",
       "        vertical-align: middle;\n",
       "    }\n",
       "\n",
       "    .dataframe tbody tr th {\n",
       "        vertical-align: top;\n",
       "    }\n",
       "\n",
       "    .dataframe thead th {\n",
       "        text-align: right;\n",
       "    }\n",
       "</style>\n",
       "<table border=\"1\" class=\"dataframe\">\n",
       "  <thead>\n",
       "    <tr style=\"text-align: right;\">\n",
       "      <th></th>\n",
       "      <th>gender</th>\n",
       "      <th>text</th>\n",
       "    </tr>\n",
       "  </thead>\n",
       "  <tbody>\n",
       "    <tr>\n",
       "      <th>150</th>\n",
       "      <td>brand</td>\n",
       "      <td>FFS, i don't know if im going to love Simple Plan's new album, like the songs iv heard from it from it so far are meh and im like o sht noo.</td>\n",
       "    </tr>\n",
       "    <tr>\n",
       "      <th>408</th>\n",
       "      <td>female</td>\n",
       "      <td>Andddd I've lost count of how many times I've already watched the @AlmostAdultsMov trailer......someone help meeeeeeeeee</td>\n",
       "    </tr>\n",
       "    <tr>\n",
       "      <th>694</th>\n",
       "      <td>male</td>\n",
       "      <td>Yknow what, I'm so damn done. Want me, don't want me, I don't care, miss me or don't, don't care, cya later.</td>\n",
       "    </tr>\n",
       "    <tr>\n",
       "      <th>1279</th>\n",
       "      <td>male</td>\n",
       "      <td>So hard to be positive when life isn't going the way you planned</td>\n",
       "    </tr>\n",
       "    <tr>\n",
       "      <th>1791</th>\n",
       "      <td>male</td>\n",
       "      <td>Some people just do whatever they feel like to get whatever they want, and don't even care about the people they step on in the process</td>\n",
       "    </tr>\n",
       "    <tr>\n",
       "      <th>2099</th>\n",
       "      <td>male</td>\n",
       "      <td>@leezasesteaga  aww don't feel sad,.its just some ppl are fucked up in the head&amp;amp; fuck over the wrong ppl without noticing it</td>\n",
       "    </tr>\n",
       "    <tr>\n",
       "      <th>2220</th>\n",
       "      <td>female</td>\n",
       "      <td>I shouldn't even feel this way but I just do... I'm so lonely all the time</td>\n",
       "    </tr>\n",
       "    <tr>\n",
       "      <th>2927</th>\n",
       "      <td>brand</td>\n",
       "      <td>@jaybeware Sure, but at the end of the day, I feel like defendant should have more say in who are their peers than judge</td>\n",
       "    </tr>\n",
       "    <tr>\n",
       "      <th>3424</th>\n",
       "      <td>brand</td>\n",
       "      <td>gmgilmore: Life with an almost 12 year old daughter. I'm the coolest one minute, the worst the next. #tween #parenting</td>\n",
       "    </tr>\n",
       "    <tr>\n",
       "      <th>3754</th>\n",
       "      <td>male</td>\n",
       "      <td>Just caught up on the news via twitter. Don't think I'll come back. Off out now to drink wine in a country that goes on strike all the time.</td>\n",
       "    </tr>\n",
       "    <tr>\n",
       "      <th>4767</th>\n",
       "      <td>female</td>\n",
       "      <td>No afternoon classes tomorrow. I feel like I've just won the lotto. _ÙªÄ</td>\n",
       "    </tr>\n",
       "    <tr>\n",
       "      <th>5228</th>\n",
       "      <td>female</td>\n",
       "      <td>I'm just tired of feeling like I gotta carry the cross for all Black people. Like there's this pressure to explain</td>\n",
       "    </tr>\n",
       "    <tr>\n",
       "      <th>6028</th>\n",
       "      <td>female</td>\n",
       "      <td>@uGugu_oWhite I opened that angle because I don't know what the future holds, can't be certain of nothing</td>\n",
       "    </tr>\n",
       "    <tr>\n",
       "      <th>8261</th>\n",
       "      <td>female</td>\n",
       "      <td>10 years ago got the most horrible news ever. it's been 10 years w/o you pop pop and doesn't get any easier_Ù÷Òlove and miss you lots._ÙÔ__Ù_‰_•ü</td>\n",
       "    </tr>\n",
       "    <tr>\n",
       "      <th>10240</th>\n",
       "      <td>female</td>\n",
       "      <td>i wore high heels and i feel like my back is going to break ; my legs are trembling and i end up w few brises</td>\n",
       "    </tr>\n",
       "    <tr>\n",
       "      <th>10357</th>\n",
       "      <td>female</td>\n",
       "      <td>@DaniStarKidCris I really don't know what's wrong with people who twist my words and make me feel bad. Thanks for not being one. Ily ‰_•ü</td>\n",
       "    </tr>\n",
       "    <tr>\n",
       "      <th>11543</th>\n",
       "      <td>female</td>\n",
       "      <td>I just want to sleep and wake up in a few months</td>\n",
       "    </tr>\n",
       "    <tr>\n",
       "      <th>11950</th>\n",
       "      <td>female</td>\n",
       "      <td>i wish i could go back in time uno_Ù÷_ then i wouldnt regret shit and feel like shit for atleast a week</td>\n",
       "    </tr>\n",
       "    <tr>\n",
       "      <th>12071</th>\n",
       "      <td>brand</td>\n",
       "      <td>@seIenasvagina I don't understand why people don't like it, seems fine to me. One of the only ones that sounds like that and Body Heat.</td>\n",
       "    </tr>\n",
       "    <tr>\n",
       "      <th>12459</th>\n",
       "      <td>female</td>\n",
       "      <td>@50mmIens mentioning it because some people don't even know about it and I can say whatever I think is necessary</td>\n",
       "    </tr>\n",
       "    <tr>\n",
       "      <th>12661</th>\n",
       "      <td>female</td>\n",
       "      <td>breaking news im a piece of shit deserving of all the pain and suffering in the world should just die make the world a better place</td>\n",
       "    </tr>\n",
       "    <tr>\n",
       "      <th>13797</th>\n",
       "      <td>female</td>\n",
       "      <td>@reyaaaab_ shittt I can't tell I don't know you and you don't know me so I'm trying to see why you took the time out of the day to follow me</td>\n",
       "    </tr>\n",
       "    <tr>\n",
       "      <th>14167</th>\n",
       "      <td>female</td>\n",
       "      <td>'Fired by mum and dad' makes me feel like I have my shit together</td>\n",
       "    </tr>\n",
       "    <tr>\n",
       "      <th>15075</th>\n",
       "      <td>unknown</td>\n",
       "      <td>I found a pic of my like 10 year old self and I looked like someone that you'd really love to punch, I want to punch me.</td>\n",
       "    </tr>\n",
       "    <tr>\n",
       "      <th>15808</th>\n",
       "      <td>female</td>\n",
       "      <td>@annecupcake I tried to drag friends there recently but they all announced they didn't want any and I didn't want to get it on my own!!</td>\n",
       "    </tr>\n",
       "    <tr>\n",
       "      <th>16168</th>\n",
       "      <td>female</td>\n",
       "      <td>They don't know what we been through\\nThey don't know 'bout me and you</td>\n",
       "    </tr>\n",
       "    <tr>\n",
       "      <th>16236</th>\n",
       "      <td>female</td>\n",
       "      <td>I don't know why but I'm just in a really good mood and I just want all y'all to know that I love you so much‰_•ü‰_•ü‰_•ü‰_•ü‰_•ü</td>\n",
       "    </tr>\n",
       "    <tr>\n",
       "      <th>16389</th>\n",
       "      <td>female</td>\n",
       "      <td>Sometimes I feel like shit, then I think of _____ and I feel like I could read all the hate comments in the world and not break a nerve.</td>\n",
       "    </tr>\n",
       "    <tr>\n",
       "      <th>16492</th>\n",
       "      <td>female</td>\n",
       "      <td>I Don't want to talk about her, him or them. Just want to have the right people in my corner and‰Û_ https://t.co/nXEdN30AUb</td>\n",
       "    </tr>\n",
       "    <tr>\n",
       "      <th>17108</th>\n",
       "      <td>female</td>\n",
       "      <td>When you actually do your work for once and feel like you've accomplished something _ÙÐ¥_ÙÈ_Ùªâ</td>\n",
       "    </tr>\n",
       "    <tr>\n",
       "      <th>17221</th>\n",
       "      <td>female</td>\n",
       "      <td>Just wanted to let you know you're a dick and I still hate u_Ù÷__Ù÷_ @IGoByLogan</td>\n",
       "    </tr>\n",
       "    <tr>\n",
       "      <th>17670</th>\n",
       "      <td>female</td>\n",
       "      <td>Just wanna go to sleep and never wake up again .</td>\n",
       "    </tr>\n",
       "    <tr>\n",
       "      <th>18359</th>\n",
       "      <td>female</td>\n",
       "      <td>I've got a long term with short term fixes, and a wasted heart that just eclipses.</td>\n",
       "    </tr>\n",
       "    <tr>\n",
       "      <th>18683</th>\n",
       "      <td>female</td>\n",
       "      <td>I've been dealt such a shitty hand in life and sometimes it's extremely hard to keep on living my life when I feel dead inside.</td>\n",
       "    </tr>\n",
       "  </tbody>\n",
       "</table>\n",
       "</div>"
      ],
      "text/plain": [
       "        gender  \\\n",
       "150    brand     \n",
       "408    female    \n",
       "694    male      \n",
       "1279   male      \n",
       "1791   male      \n",
       "2099   male      \n",
       "2220   female    \n",
       "2927   brand     \n",
       "3424   brand     \n",
       "3754   male      \n",
       "4767   female    \n",
       "5228   female    \n",
       "6028   female    \n",
       "8261   female    \n",
       "10240  female    \n",
       "10357  female    \n",
       "11543  female    \n",
       "11950  female    \n",
       "12071  brand     \n",
       "12459  female    \n",
       "12661  female    \n",
       "13797  female    \n",
       "14167  female    \n",
       "15075  unknown   \n",
       "15808  female    \n",
       "16168  female    \n",
       "16236  female    \n",
       "16389  female    \n",
       "16492  female    \n",
       "17108  female    \n",
       "17221  female    \n",
       "17670  female    \n",
       "18359  female    \n",
       "18683  female    \n",
       "\n",
       "                                                                                                                                                       text  \n",
       "150    FFS, i don't know if im going to love Simple Plan's new album, like the songs iv heard from it from it so far are meh and im like o sht noo.          \n",
       "408    Andddd I've lost count of how many times I've already watched the @AlmostAdultsMov trailer......someone help meeeeeeeeee                              \n",
       "694    Yknow what, I'm so damn done. Want me, don't want me, I don't care, miss me or don't, don't care, cya later.                                          \n",
       "1279   So hard to be positive when life isn't going the way you planned                                                                                      \n",
       "1791   Some people just do whatever they feel like to get whatever they want, and don't even care about the people they step on in the process               \n",
       "2099   @leezasesteaga  aww don't feel sad,.its just some ppl are fucked up in the head&amp; fuck over the wrong ppl without noticing it                      \n",
       "2220   I shouldn't even feel this way but I just do... I'm so lonely all the time                                                                            \n",
       "2927   @jaybeware Sure, but at the end of the day, I feel like defendant should have more say in who are their peers than judge                              \n",
       "3424   gmgilmore: Life with an almost 12 year old daughter. I'm the coolest one minute, the worst the next. #tween #parenting                                \n",
       "3754   Just caught up on the news via twitter. Don't think I'll come back. Off out now to drink wine in a country that goes on strike all the time.          \n",
       "4767   No afternoon classes tomorrow. I feel like I've just won the lotto. _ÙªÄ                                                                              \n",
       "5228   I'm just tired of feeling like I gotta carry the cross for all Black people. Like there's this pressure to explain                                    \n",
       "6028   @uGugu_oWhite I opened that angle because I don't know what the future holds, can't be certain of nothing                                             \n",
       "8261   10 years ago got the most horrible news ever. it's been 10 years w/o you pop pop and doesn't get any easier_Ù÷Òlove and miss you lots._ÙÔ__Ù_‰_•ü  \n",
       "10240  i wore high heels and i feel like my back is going to break ; my legs are trembling and i end up w few brises                                         \n",
       "10357  @DaniStarKidCris I really don't know what's wrong with people who twist my words and make me feel bad. Thanks for not being one. Ily ‰_•ü           \n",
       "11543  I just want to sleep and wake up in a few months                                                                                                      \n",
       "11950  i wish i could go back in time uno_Ù÷_ then i wouldnt regret shit and feel like shit for atleast a week                                               \n",
       "12071  @seIenasvagina I don't understand why people don't like it, seems fine to me. One of the only ones that sounds like that and Body Heat.               \n",
       "12459  @50mmIens mentioning it because some people don't even know about it and I can say whatever I think is necessary                                      \n",
       "12661  breaking news im a piece of shit deserving of all the pain and suffering in the world should just die make the world a better place                   \n",
       "13797  @reyaaaab_ shittt I can't tell I don't know you and you don't know me so I'm trying to see why you took the time out of the day to follow me          \n",
       "14167  'Fired by mum and dad' makes me feel like I have my shit together                                                                                     \n",
       "15075  I found a pic of my like 10 year old self and I looked like someone that you'd really love to punch, I want to punch me.                              \n",
       "15808  @annecupcake I tried to drag friends there recently but they all announced they didn't want any and I didn't want to get it on my own!!               \n",
       "16168  They don't know what we been through\\nThey don't know 'bout me and you                                                                                \n",
       "16236  I don't know why but I'm just in a really good mood and I just want all y'all to know that I love you so much‰_•ü‰_•ü‰_•ü‰_•ü‰_•ü           \n",
       "16389  Sometimes I feel like shit, then I think of _____ and I feel like I could read all the hate comments in the world and not break a nerve.              \n",
       "16492  I Don't want to talk about her, him or them. Just want to have the right people in my corner and‰Û_ https://t.co/nXEdN30AUb                           \n",
       "17108  When you actually do your work for once and feel like you've accomplished something _ÙÐ¥_ÙÈ_Ùªâ                                                      \n",
       "17221  Just wanted to let you know you're a dick and I still hate u_Ù÷__Ù÷_ @IGoByLogan                                                                      \n",
       "17670  Just wanna go to sleep and never wake up again .                                                                                                      \n",
       "18359  I've got a long term with short term fixes, and a wasted heart that just eclipses.                                                                    \n",
       "18683  I've been dealt such a shitty hand in life and sometimes it's extremely hard to keep on living my life when I feel dead inside.                       "
      ]
     },
     "execution_count": 20,
     "metadata": {},
     "output_type": "execute_result"
    }
   ],
   "source": [
    "pd.set_option('display.max_colwidth', -1)\n",
    "depression_tweets"
   ]
  }
 ],
 "metadata": {
  "kernel_info": {
   "name": "python3-azureml"
  },
  "kernelspec": {
   "display_name": "Python 3",
   "language": "python",
   "name": "python3"
  },
  "language_info": {
   "codemirror_mode": {
    "name": "ipython",
    "version": 3
   },
   "file_extension": ".py",
   "mimetype": "text/x-python",
   "name": "python",
   "nbconvert_exporter": "python",
   "pygments_lexer": "ipython3",
   "version": "3.8.5"
  },
  "microsoft": {
   "host": {
    "AzureML": {
     "notebookHasBeenCompleted": true
    }
   }
  },
  "nteract": {
   "version": "nteract-front-end@1.0.0"
  },
  "toc": {
   "base_numbering": 1,
   "nav_menu": {},
   "number_sections": true,
   "sideBar": true,
   "skip_h1_title": false,
   "title_cell": "Table of Contents",
   "title_sidebar": "Contents",
   "toc_cell": false,
   "toc_position": {},
   "toc_section_display": true,
   "toc_window_display": false
  }
 },
 "nbformat": 4,
 "nbformat_minor": 2
}
