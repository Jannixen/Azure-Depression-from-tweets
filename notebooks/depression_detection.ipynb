{
  "cells": [
    {
      "cell_type": "markdown",
      "source": [
        "# Depression from tweets detection #"
      ],
      "metadata": {
        "nteract": {
          "transient": {
            "deleting": false
          }
        }
      }
    },
    {
      "cell_type": "code",
      "source": [
        "import pandas as pd\r\n",
        "import numpy as np\r\n",
        "from sklearn.model_selection import train_test_split\r\n",
        "from sklearn.feature_extraction.text import TfidfVectorizer\r\n",
        "from sklearn.metrics import accuracy_score, confusion_matrix\r\n",
        "import pickle\r\n",
        "from sklearn.naive_bayes import MultinomialNB\r\n",
        "from sklearn.linear_model import LogisticRegression\r\n",
        "from sklearn.feature_selection import SelectKBest, chi2"
      ],
      "outputs": [],
      "execution_count": 1,
      "metadata": {
        "gather": {
          "logged": 1636824609847
        }
      }
    },
    {
      "cell_type": "code",
      "source": [
        "import warnings\r\n",
        "warnings.filterwarnings(\"ignore\")\r\n",
        "\r\n",
        "# azureml-core of version 1.0.72 or higher is required\r\n",
        "# azureml-dataprep[pandas] of version 1.1.34 or higher is required\r\n",
        "from azureml.core import Workspace, Dataset\r\n",
        "\r\n",
        "subscription_id = '6ce0c011-aa35-4425-9b6b-e8d8d8a1b919'\r\n",
        "resource_group = 'projekt1_grupa6'\r\n",
        "workspace_name = 'depresja_projekt'\r\n",
        "\r\n",
        "workspace = Workspace(subscription_id, resource_group, workspace_name)\r\n",
        "\r\n",
        "train_data1 = Dataset.get_by_name(workspace, name='train_data1')\r\n",
        "train_data2 = Dataset.get_by_name(workspace, name='train_data')"
      ],
      "outputs": [],
      "execution_count": 2,
      "metadata": {
        "jupyter": {
          "source_hidden": false,
          "outputs_hidden": false
        },
        "nteract": {
          "transient": {
            "deleting": false
          }
        },
        "gather": {
          "logged": 1636824611193
        }
      }
    },
    {
      "cell_type": "code",
      "source": [
        "train_data1 = train_data1.to_pandas_dataframe()\r\n",
        "train_data2 = train_data2.to_pandas_dataframe()"
      ],
      "outputs": [],
      "execution_count": 3,
      "metadata": {
        "jupyter": {
          "source_hidden": false,
          "outputs_hidden": false
        },
        "nteract": {
          "transient": {
            "deleting": false
          }
        },
        "gather": {
          "logged": 1636824709542
        }
      }
    },
    {
      "cell_type": "markdown",
      "source": [
        "## Joining two train datasets ##"
      ],
      "metadata": {
        "nteract": {
          "transient": {
            "deleting": false
          }
        }
      }
    },
    {
      "cell_type": "code",
      "source": [
        "train_data2 = train_data2[['text', 'class']]\r\n",
        "\r\n",
        "train_data1.columns = ['text','class']\r\n",
        "train_data = pd.concat([train_data1, train_data2])"
      ],
      "outputs": [],
      "execution_count": 4,
      "metadata": {
        "jupyter": {
          "source_hidden": false,
          "outputs_hidden": false
        },
        "nteract": {
          "transient": {
            "deleting": false
          }
        },
        "gather": {
          "logged": 1636824709762
        }
      }
    },
    {
      "cell_type": "code",
      "source": [
        "train_data['class'].value_counts()"
      ],
      "outputs": [
        {
          "output_type": "execute_result",
          "execution_count": 5,
          "data": {
            "text/plain": "non-suicide     116037\nsuicide         116037\ndepression       10371\nSuicideWatch      9992\nName: class, dtype: int64"
          },
          "metadata": {}
        }
      ],
      "execution_count": 5,
      "metadata": {
        "jupyter": {
          "source_hidden": false,
          "outputs_hidden": false
        },
        "nteract": {
          "transient": {
            "deleting": false
          }
        },
        "gather": {
          "logged": 1636824710150
        }
      }
    },
    {
      "cell_type": "code",
      "source": [
        "train_data['class'] = train_data['class'].replace(['suicide','depression',\"SuicideWatch\"], 1)"
      ],
      "outputs": [],
      "execution_count": 6,
      "metadata": {
        "jupyter": {
          "source_hidden": false,
          "outputs_hidden": false
        },
        "nteract": {
          "transient": {
            "deleting": false
          }
        },
        "gather": {
          "logged": 1636824764186
        }
      }
    },
    {
      "cell_type": "code",
      "source": [
        "train_data['class'] = train_data['class'].replace(['non-suicide'], 0)"
      ],
      "outputs": [],
      "execution_count": 7,
      "metadata": {
        "jupyter": {
          "source_hidden": false,
          "outputs_hidden": false
        },
        "nteract": {
          "transient": {
            "deleting": false
          }
        },
        "gather": {
          "logged": 1636824798463
        }
      }
    },
    {
      "cell_type": "code",
      "source": [
        "train_data['class'].value_counts()"
      ],
      "outputs": [
        {
          "output_type": "execute_result",
          "execution_count": 8,
          "data": {
            "text/plain": "1    136400\n0    116037\nName: class, dtype: int64"
          },
          "metadata": {}
        }
      ],
      "execution_count": 8,
      "metadata": {
        "jupyter": {
          "source_hidden": false,
          "outputs_hidden": false
        },
        "nteract": {
          "transient": {
            "deleting": false
          }
        },
        "gather": {
          "logged": 1636824815598
        }
      }
    },
    {
      "cell_type": "markdown",
      "source": [
        "# Dividing into train and test #"
      ],
      "metadata": {
        "nteract": {
          "transient": {
            "deleting": false
          }
        }
      }
    },
    {
      "cell_type": "code",
      "source": [
        "X_train, X_test, y_train, y_test = train_test_split(train_data['text'],\r\n",
        "                                                    train_data['class'],\r\n",
        "                                                    test_size=0.2,\r\n",
        "                                                    random_state=0)"
      ],
      "outputs": [],
      "execution_count": 9,
      "metadata": {
        "jupyter": {
          "source_hidden": false,
          "outputs_hidden": false
        },
        "nteract": {
          "transient": {
            "deleting": false
          }
        },
        "gather": {
          "logged": 1636824947125
        }
      }
    },
    {
      "cell_type": "markdown",
      "source": [
        "## Creating bag of words ##\r\n",
        "\r\n",
        "Bag of words = matrix which consists of count how many times each word appears in tweet, so where rows means tweets, columns are equal to particular words and values are counts of each word in sentence"
      ],
      "metadata": {
        "nteract": {
          "transient": {
            "deleting": false
          }
        }
      }
    },
    {
      "cell_type": "code",
      "source": [
        "vectorizer = TfidfVectorizer(stop_words='english',\r\n",
        "                             ngram_range=(1,2),\r\n",
        "                             min_df=10,\r\n",
        "                             strip_accents='unicode')\r\n",
        "X_train_vectorized = vectorizer.fit_transform(X_train)\r\n",
        "X_test_vectorized = vectorizer.transform(X_test)\r\n",
        "X_train_vectorized\r\n",
        "len(vectorizer.get_feature_names())"
      ],
      "outputs": [
        {
          "output_type": "execute_result",
          "execution_count": 10,
          "data": {
            "text/plain": "153652"
          },
          "metadata": {}
        }
      ],
      "execution_count": 10,
      "metadata": {
        "jupyter": {
          "source_hidden": false,
          "outputs_hidden": false
        },
        "nteract": {
          "transient": {
            "deleting": false
          }
        },
        "gather": {
          "logged": 1636825191699
        }
      }
    },
    {
      "cell_type": "markdown",
      "source": [
        "## Comparing classifiers ##"
      ],
      "metadata": {
        "nteract": {
          "transient": {
            "deleting": false
          }
        }
      }
    },
    {
      "cell_type": "code",
      "source": [
        "def classify(classifier, vectorizer):\r\n",
        "\r\n",
        "    classifier.fit(X_train_vectorized, y_train)\r\n",
        "\r\n",
        "    predictions = classifier.predict(X_train_vectorized)\r\n",
        "    print('Train Accuracy: ', accuracy_score(y_train, predictions))\r\n",
        "    cm = confusion_matrix(y_train, predictions)\r\n",
        "    print(cm)\r\n",
        "\r\n",
        "    predictions = classifier.predict(X_test_vectorized)\r\n",
        "    print('Test Accuracy: ', accuracy_score(y_test, predictions))\r\n",
        "    cm = confusion_matrix(y_test, predictions)\r\n",
        "    print(cm)"
      ],
      "outputs": [],
      "execution_count": 13,
      "metadata": {
        "jupyter": {
          "source_hidden": false,
          "outputs_hidden": false
        },
        "nteract": {
          "transient": {
            "deleting": false
          }
        },
        "gather": {
          "logged": 1636825461857
        }
      }
    },
    {
      "cell_type": "code",
      "source": [
        "def find_best_features(classifier, vactorizer):\r\n",
        "    feature_names = np.array(vectorizer.get_feature_names())\r\n",
        "    sorted_coef_index = classifier.coef_[0].argsort()\r\n",
        "    print('Smallest Coefs:\\n{}\\n'.format(\r\n",
        "        feature_names[sorted_coef_index[:10]]))\r\n",
        "    print('Largest Coefs: \\n{}'.format(\r\n",
        "        feature_names[sorted_coef_index[:-11:-1]]))"
      ],
      "outputs": [],
      "execution_count": 12,
      "metadata": {
        "jupyter": {
          "source_hidden": false,
          "outputs_hidden": false
        },
        "nteract": {
          "transient": {
            "deleting": false
          }
        },
        "gather": {
          "logged": 1636825460221
        }
      }
    },
    {
      "cell_type": "code",
      "source": [
        "classifier_log = LogisticRegression(max_iter=3000)\r\n",
        "classify(classifier_log, vectorizer)"
      ],
      "outputs": [
        {
          "output_type": "stream",
          "name": "stdout",
          "text": "Train Accuracy:  0.9516907734130895\n[[ 88350   4473]\n [  5283 103843]]\nTest Accuracy:  0.936400728886072\n[[21748  1466]\n [ 1745 25529]]\n"
        }
      ],
      "execution_count": 15,
      "metadata": {
        "jupyter": {
          "source_hidden": false,
          "outputs_hidden": false
        },
        "nteract": {
          "transient": {
            "deleting": false
          }
        },
        "gather": {
          "logged": 1636825567471
        }
      }
    },
    {
      "cell_type": "code",
      "source": [
        "find_best_features(classifier_log,  vectorizer)"
      ],
      "outputs": [
        {
          "output_type": "stream",
          "name": "stdout",
          "text": "Smallest Coefs:\n['crush' 'teenagers' 'dm' 'kinda' 'discord' 'horny' 'minecraft' 'bruh'\n 'rant' 'bored']\n\nLargest Coefs: \n['suicide' 'suicidal' 'kill' 'life' 'depression' 'killing' 'anymore' 'die'\n 'end' 'pills']\n"
        }
      ],
      "execution_count": 16,
      "metadata": {
        "jupyter": {
          "source_hidden": false,
          "outputs_hidden": false
        },
        "nteract": {
          "transient": {
            "deleting": false
          }
        },
        "gather": {
          "logged": 1636825636569
        }
      }
    }
  ],
  "metadata": {
    "kernelspec": {
      "name": "python3-azureml",
      "language": "python",
      "display_name": "Python 3.6 - AzureML"
    },
    "language_info": {
      "name": "python",
      "version": "3.6.9",
      "mimetype": "text/x-python",
      "codemirror_mode": {
        "name": "ipython",
        "version": 3
      },
      "pygments_lexer": "ipython3",
      "nbconvert_exporter": "python",
      "file_extension": ".py"
    },
    "kernel_info": {
      "name": "python3-azureml"
    },
    "nteract": {
      "version": "nteract-front-end@1.0.0"
    },
    "microsoft": {
      "host": {
        "AzureML": {
          "notebookHasBeenCompleted": true
        }
      }
    }
  },
  "nbformat": 4,
  "nbformat_minor": 2
}